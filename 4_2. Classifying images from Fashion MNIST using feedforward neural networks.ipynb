{
 "cells": [
  {
   "cell_type": "code",
   "execution_count": 1,
   "id": "5a80d99b",
   "metadata": {},
   "outputs": [],
   "source": [
    "import torch\n",
    "import numpy as np\n",
    "import matplotlib.pyplot as plt\n",
    "import torch.nn as nn\n",
    "import torch.nn.functional as F\n",
    "from torchvision import transforms, datasets\n",
    "import torchvision.transforms as transforms\n",
    "from torch.utils.data import DataLoader\n",
    "from torch.utils.data import random_split\n",
    "\n",
    "%matplotlib inline"
   ]
  },
  {
   "cell_type": "code",
   "execution_count": 2,
   "id": "b4bdf918",
   "metadata": {},
   "outputs": [],
   "source": [
    "# Hyperparmeters\n",
    "batch_size = 64\n",
    "learning_rate = 0.003\n",
    "\n",
    "# Other constants\n",
    "input_size = 28*28\n",
    "num_classes = 10"
   ]
  },
  {
   "cell_type": "code",
   "execution_count": 3,
   "id": "04b162e2",
   "metadata": {},
   "outputs": [],
   "source": [
    "def get_default_device():\n",
    "    \"\"\"Pick GPU if available, else CPU\"\"\"\n",
    "    if torch.cuda.is_available():\n",
    "        return torch.device('cuda')\n",
    "    else:\n",
    "        return torch.device('cpu')\n",
    "    \n",
    "device = get_default_device()"
   ]
  },
  {
   "cell_type": "code",
   "execution_count": 4,
   "id": "0e958825",
   "metadata": {},
   "outputs": [],
   "source": [
    "class DeviceDataLoader():\n",
    "    \"\"\"Wrap a dataloader to move data to a device\"\"\"\n",
    "    def __init__(self, dl, device):\n",
    "        self.dl = dl\n",
    "        self.device = device\n",
    "        \n",
    "    def __iter__(self):\n",
    "        \"\"\"Yield a batch of data after moving it to device\"\"\"\n",
    "        for b, c in self.dl: \n",
    "            yield b.to(self.device), c.to(self.device)\n",
    "\n",
    "    def __len__(self):\n",
    "        \"\"\"Number of batches\"\"\"\n",
    "        return len(self.dl)"
   ]
  },
  {
   "cell_type": "code",
   "execution_count": 5,
   "id": "ca9f14c9",
   "metadata": {},
   "outputs": [],
   "source": [
    "dataset = datasets.FashionMNIST(root='data/', train=True, transform=transforms.ToTensor())\n",
    "\n",
    "train_ds, val_ds = random_split(dataset, [50000, 10000])\n",
    "train_loader = DeviceDataLoader(DataLoader(train_ds, batch_size, shuffle=True), device)\n",
    "val_loader = DeviceDataLoader(DataLoader(val_ds, batch_size, shuffle=True), device)\n",
    "\n",
    "test_ds = datasets.FashionMNIST(root='data/', train=False, transform=transforms.ToTensor())\n",
    "test_loader = DeviceDataLoader(DataLoader(test_ds, batch_size), device)"
   ]
  },
  {
   "cell_type": "code",
   "execution_count": 6,
   "id": "2cb3382e",
   "metadata": {},
   "outputs": [
    {
     "data": {
      "text/plain": [
       "(50000, 10000, 10000)"
      ]
     },
     "execution_count": 6,
     "metadata": {},
     "output_type": "execute_result"
    }
   ],
   "source": [
    "len(train_ds), len(val_ds), len(test_ds)"
   ]
  },
  {
   "cell_type": "code",
   "execution_count": 13,
   "id": "cd1c66d1",
   "metadata": {},
   "outputs": [
    {
     "name": "stdout",
     "output_type": "stream",
     "text": [
      "5\n"
     ]
    },
    {
     "data": {
      "image/png": "[encoded data removed]",
      "text/plain": [
       "<Figure size 432x288 with 1 Axes>"
      ]
     },
     "metadata": {
      "needs_background": "light"
     },
     "output_type": "display_data"
    }
   ],
   "source": [
    "image, label = train_ds[0]\n",
    "print(label)\n",
    "plt.imshow(image.permute(1, 2, 0), cmap='gray')\n",
    "plt.show()"
   ]
  },
  {
   "cell_type": "code",
   "execution_count": 14,
   "id": "169f2eae",
   "metadata": {},
   "outputs": [
    {
     "name": "stdout",
     "output_type": "stream",
     "text": [
      "1\n"
     ]
    },
    {
     "data": {
      "image/png": "[encoded data removed]",
      "text/plain": [
       "<Figure size 432x288 with 1 Axes>"
      ]
     },
     "metadata": {
      "needs_background": "light"
     },
     "output_type": "display_data"
    }
   ],
   "source": [
    "image, label = val_ds[0]\n",
    "print(label)\n",
    "plt.imshow(image.permute(1, 2, 0), cmap='gray')\n",
    "plt.show()"
   ]
  },
  {
   "cell_type": "code",
   "execution_count": 16,
   "id": "fda4d8d6",
   "metadata": {},
   "outputs": [
    {
     "name": "stdout",
     "output_type": "stream",
     "text": [
      "9\n"
     ]
    },
    {
     "data": {
      "image/png": "[encoded data removed]",
      "text/plain": [
       "<Figure size 432x288 with 1 Axes>"
      ]
     },
     "metadata": {
      "needs_background": "light"
     },
     "output_type": "display_data"
    }
   ],
   "source": [
    "image, label = test_ds[0]\n",
    "print(label)\n",
    "plt.imshow(image.permute(1, 2, 0), cmap='gray')\n",
    "plt.show()"
   ]
  },
  {
   "cell_type": "code",
   "execution_count": 6,
   "id": "633e630c",
   "metadata": {},
   "outputs": [],
   "source": [
    "class FashionMnistModel(nn.Module):\n",
    "    \"\"\"Feedfoward neural network with 1 hidden layer\"\"\"\n",
    "    def __init__(self):\n",
    "        super().__init__()\n",
    "        self.fc1 = nn.Linear(784, 256)\n",
    "        self.fc2 = nn.Linear(256, 128)\n",
    "        self.fc3 = nn.Linear(128, 64)\n",
    "        self.fc4 = nn.Linear(64, 10)\n",
    "        \n",
    "    def forward(self, xb):        \n",
    "        xb = xb.view(xb.size(0), -1)        # Flatten the image tensors      \n",
    "        out = F.relu(self.fc1(xb))\n",
    "        out = F.relu(self.fc2(out))\n",
    "        out = F.relu(self.fc3(out))\n",
    "        out = self.fc4(out)\n",
    "        return out\n",
    "    \n",
    "    def training_step(self, batch):\n",
    "        images, labels = batch \n",
    "        out = self(images)                  # Generate predictions\n",
    "        loss = F.cross_entropy(out, labels) # Calculate loss\n",
    "        return loss\n",
    "    \n",
    "    def validation_step(self, batch):\n",
    "        images, labels = batch \n",
    "        out = self(images)                    # Generate predictions\n",
    "        loss = F.cross_entropy(out, labels)   # Calculate loss\n",
    "        acc = accuracy(out, labels)           # Calculate accuracy\n",
    "        return loss, acc"
   ]
  },
  {
   "cell_type": "code",
   "execution_count": 7,
   "id": "d9a53dd6",
   "metadata": {},
   "outputs": [],
   "source": [
    "def accuracy(outputs, labels):\n",
    "    _, preds = torch.max(outputs, dim=1)\n",
    "    return torch.tensor(torch.sum(preds == labels).item() / len(preds))"
   ]
  },
  {
   "cell_type": "code",
   "execution_count": 8,
   "id": "ec24ae47",
   "metadata": {},
   "outputs": [],
   "source": [
    "model = FashionMnistModel().to(device)"
   ]
  },
  {
   "cell_type": "code",
   "execution_count": 9,
   "id": "aa444f1a",
   "metadata": {},
   "outputs": [],
   "source": [
    "training_losses, val_losses, val_acc = [], [], []\n",
    "optimizer = torch.optim.Adam(model.parameters(), lr=learning_rate)"
   ]
  },
  {
   "cell_type": "code",
   "execution_count": 10,
   "id": "e098b4eb",
   "metadata": {},
   "outputs": [],
   "source": [
    "def fit(epochs, lr, model, train_loader, val_loader, opt_func) -> None:   \n",
    "    for epoch in range(epochs): \n",
    "        running_loss = 0\n",
    "        # Training Phase \n",
    "        for batch in train_loader:\n",
    "            loss = model.training_step(batch)\n",
    "            loss.backward()\n",
    "            optimizer.step()\n",
    "            optimizer.zero_grad() \n",
    "            running_loss += loss.item()  \n",
    "        training_losses.append(running_loss / len(train_loader))\n",
    "                    \n",
    "        # Validation phase\n",
    "        with torch.no_grad():\n",
    "            losses, accs = 0, 0\n",
    "            for batch in val_loader:\n",
    "                loss, acc = model.validation_step(batch)\n",
    "                losses += loss.item()\n",
    "                accs += acc.item()\n",
    "            val_losses.append(losses / len(val_loader))\n",
    "            val_acc.append(accs / len(val_loader))\n",
    "        \n",
    "        print(\"Epoch {}/{}\".format(epoch+1, epochs),\n",
    "             \"Train_loss {:.4f}\".format(training_losses[epoch]),\n",
    "             \"Val_loss {:.4f}\".format(val_losses[epoch]),\n",
    "             \"Val_acc {:.4f}\".format(val_acc[epoch]))"
   ]
  },
  {
   "cell_type": "code",
   "execution_count": 11,
   "id": "420950d7",
   "metadata": {
    "scrolled": true
   },
   "outputs": [
    {
     "name": "stdout",
     "output_type": "stream",
     "text": [
      "Epoch 1/20 Train_loss 0.5436 Val_loss 0.3953 Val_acc 0.8610\n",
      "Epoch 2/20 Train_loss 0.3902 Val_loss 0.4093 Val_acc 0.8496\n",
      "Epoch 3/20 Train_loss 0.3558 Val_loss 0.3642 Val_acc 0.8692\n",
      "Epoch 4/20 Train_loss 0.3285 Val_loss 0.3606 Val_acc 0.8684\n",
      "Epoch 5/20 Train_loss 0.3150 Val_loss 0.3404 Val_acc 0.8831\n",
      "Epoch 6/20 Train_loss 0.3008 Val_loss 0.3318 Val_acc 0.8835\n",
      "Epoch 7/20 Train_loss 0.2881 Val_loss 0.3170 Val_acc 0.8842\n",
      "Epoch 8/20 Train_loss 0.2766 Val_loss 0.3357 Val_acc 0.8775\n",
      "Epoch 9/20 Train_loss 0.2676 Val_loss 0.3209 Val_acc 0.8860\n",
      "Epoch 10/20 Train_loss 0.2562 Val_loss 0.3373 Val_acc 0.8855\n",
      "Epoch 11/20 Train_loss 0.2531 Val_loss 0.3373 Val_acc 0.8854\n",
      "Epoch 12/20 Train_loss 0.2449 Val_loss 0.3671 Val_acc 0.8730\n",
      "Epoch 13/20 Train_loss 0.2418 Val_loss 0.3304 Val_acc 0.8901\n",
      "Epoch 14/20 Train_loss 0.2346 Val_loss 0.3504 Val_acc 0.8859\n",
      "Epoch 15/20 Train_loss 0.2293 Val_loss 0.3300 Val_acc 0.8909\n",
      "Epoch 16/20 Train_loss 0.2258 Val_loss 0.3667 Val_acc 0.8824\n",
      "Epoch 17/20 Train_loss 0.2221 Val_loss 0.3458 Val_acc 0.8841\n",
      "Epoch 18/20 Train_loss 0.2150 Val_loss 0.3353 Val_acc 0.8897\n",
      "Epoch 19/20 Train_loss 0.2114 Val_loss 0.3894 Val_acc 0.8873\n",
      "Epoch 20/20 Train_loss 0.2080 Val_loss 0.3460 Val_acc 0.8893\n"
     ]
    }
   ],
   "source": [
    "fit(20, learning_rate, model, train_loader, val_loader, optimizer)"
   ]
  },
  {
   "cell_type": "code",
   "execution_count": 12,
   "id": "ee6a3cb1",
   "metadata": {},
   "outputs": [
    {
     "data": {
      "text/plain": [
       "<matplotlib.legend.Legend at 0x1f004591dc0>"
      ]
     },
     "execution_count": 12,
     "metadata": {},
     "output_type": "execute_result"
    },
    {
     "data": {
      "image/png": "[encoded data removed]",
      "text/plain": [
       "<Figure size 432x288 with 1 Axes>"
      ]
     },
     "metadata": {
      "needs_background": "light"
     },
     "output_type": "display_data"
    }
   ],
   "source": [
    "plt.plot(training_losses, label='training_loss')\n",
    "plt.plot(val_losses, label='validation_loss')\n",
    "plt.xlabel('epoch')\n",
    "plt.ylabel('loss')\n",
    "plt.legend(frameon=False)"
   ]
  },
  {
   "cell_type": "markdown",
   "id": "dc9d8b7c",
   "metadata": {},
   "source": [
    "## Overfitting & Dropout\n",
    "\n",
    "![https://cdn-images-1.medium.com/max/1200/1*iWQzxhVlvadk6VAJjsgXgg.png]"
   ]
  },
  {
   "cell_type": "code",
   "execution_count": 11,
   "id": "165e9b0c",
   "metadata": {},
   "outputs": [],
   "source": [
    "class FashionMnistModel_dp(nn.Module):\n",
    "    \"\"\"Feedfoward neural network with 1 hidden layer\"\"\"\n",
    "    def __init__(self):\n",
    "        super().__init__()\n",
    "        self.fc1 = nn.Linear(784, 256)\n",
    "        self.fc2 = nn.Linear(256, 128)\n",
    "        self.fc3 = nn.Linear(128, 64)\n",
    "        self.fc4 = nn.Linear(64, 10)\n",
    "        self.dropout = nn.Dropout(p=0.2)\n",
    "        \n",
    "    def forward(self, xb):        \n",
    "        xb = xb.view(xb.size(0), -1)        # Flatten the image tensors      \n",
    "        out = self.dropout(F.relu(self.fc1(xb)))\n",
    "        out = self.dropout(F.relu(self.fc2(out)))\n",
    "        out = self.dropout(F.relu(self.fc3(out)))\n",
    "        out = self.fc4(out)\n",
    "        return out\n",
    "    \n",
    "    def training_step(self, batch):\n",
    "        images, labels = batch \n",
    "        out = self(images)                  # Generate predictions\n",
    "        loss = F.cross_entropy(out, labels) # Calculate loss\n",
    "        return loss\n",
    "    \n",
    "    def validation_step(self, batch):\n",
    "        images, labels = batch \n",
    "        out = self(images)                    # Generate predictions\n",
    "        loss = F.cross_entropy(out, labels)   # Calculate loss\n",
    "        acc = accuracy(out, labels)           # Calculate accuracy\n",
    "        return loss, acc"
   ]
  },
  {
   "cell_type": "code",
   "execution_count": 12,
   "id": "03c9e1e9",
   "metadata": {},
   "outputs": [],
   "source": [
    "def fit(epochs, lr, model, train_loader, val_loader, opt_func) -> None:   \n",
    "    for epoch in range(epochs): \n",
    "        running_loss = 0\n",
    "        # Training Phase \n",
    "        for batch in train_loader:\n",
    "            loss = model.training_step(batch)\n",
    "            loss.backward()\n",
    "            optimizer.step()\n",
    "            optimizer.zero_grad() \n",
    "            running_loss += loss.item()  \n",
    "        training_losses.append(running_loss / len(train_loader))\n",
    "                    \n",
    "        # Validation phase\n",
    "        with torch.no_grad():\n",
    "            model.eval()\n",
    "            \n",
    "            losses, accs = 0, 0\n",
    "            for batch in val_loader:\n",
    "                loss, acc = model.validation_step(batch)\n",
    "                losses += loss.item()\n",
    "                accs += acc.item()\n",
    "            val_losses.append(losses / len(val_loader))\n",
    "            val_acc.append(accs / len(val_loader))\n",
    "            \n",
    "        model.train()\n",
    "        \n",
    "        print(\"Epoch {}/{}\".format(epoch+1, epochs),\n",
    "             \"Train_loss {:.4f}\".format(training_losses[epoch]),\n",
    "             \"Val_loss {:.4f}\".format(val_losses[epoch]),\n",
    "             \"Val_acc {:.4f}\".format(val_acc[epoch]))"
   ]
  },
  {
   "cell_type": "code",
   "execution_count": 20,
   "id": "f0117701",
   "metadata": {},
   "outputs": [],
   "source": [
    "model_dp = FashionMnistModel_dp().to(device)"
   ]
  },
  {
   "cell_type": "code",
   "execution_count": 21,
   "id": "3aa7cf76",
   "metadata": {
    "scrolled": true
   },
   "outputs": [],
   "source": [
    "training_losses, val_losses, val_acc = [], [], []\n",
    "optimizer = torch.optim.Adam(model_dp.parameters(), lr=learning_rate)"
   ]
  },
  {
   "cell_type": "code",
   "execution_count": 22,
   "id": "e14fd890",
   "metadata": {
    "scrolled": true
   },
   "outputs": [
    {
     "name": "stdout",
     "output_type": "stream",
     "text": [
      "Epoch 1/20 Train_loss 0.6100 Val_loss 0.4360 Val_acc 0.8425\n",
      "Epoch 2/20 Train_loss 0.4616 Val_loss 0.3984 Val_acc 0.8540\n",
      "Epoch 3/20 Train_loss 0.4239 Val_loss 0.3754 Val_acc 0.8678\n",
      "Epoch 4/20 Train_loss 0.4086 Val_loss 0.3841 Val_acc 0.8638\n",
      "Epoch 5/20 Train_loss 0.3894 Val_loss 0.3801 Val_acc 0.8670\n",
      "Epoch 6/20 Train_loss 0.3811 Val_loss 0.3510 Val_acc 0.8764\n",
      "Epoch 7/20 Train_loss 0.3724 Val_loss 0.3515 Val_acc 0.8674\n",
      "Epoch 8/20 Train_loss 0.3630 Val_loss 0.3604 Val_acc 0.8779\n",
      "Epoch 9/20 Train_loss 0.3591 Val_loss 0.3490 Val_acc 0.8753\n",
      "Epoch 10/20 Train_loss 0.3559 Val_loss 0.3482 Val_acc 0.8756\n",
      "Epoch 11/20 Train_loss 0.3493 Val_loss 0.3542 Val_acc 0.8799\n",
      "Epoch 12/20 Train_loss 0.3433 Val_loss 0.3369 Val_acc 0.8828\n",
      "Epoch 13/20 Train_loss 0.3448 Val_loss 0.3448 Val_acc 0.8818\n",
      "Epoch 14/20 Train_loss 0.3416 Val_loss 0.3586 Val_acc 0.8682\n",
      "Epoch 15/20 Train_loss 0.3377 Val_loss 0.3479 Val_acc 0.8750\n",
      "Epoch 16/20 Train_loss 0.3307 Val_loss 0.3373 Val_acc 0.8794\n",
      "Epoch 17/20 Train_loss 0.3312 Val_loss 0.3443 Val_acc 0.8839\n",
      "Epoch 18/20 Train_loss 0.3335 Val_loss 0.3561 Val_acc 0.8826\n",
      "Epoch 19/20 Train_loss 0.3213 Val_loss 0.3496 Val_acc 0.8820\n",
      "Epoch 20/20 Train_loss 0.3251 Val_loss 0.3649 Val_acc 0.8793\n"
     ]
    }
   ],
   "source": [
    "fit(20, learning_rate, model_dp, train_loader, val_loader, optimizer)"
   ]
  },
  {
   "cell_type": "code",
   "execution_count": 23,
   "id": "e3fa8ac8",
   "metadata": {},
   "outputs": [
    {
     "data": {
      "text/plain": [
       "<matplotlib.legend.Legend at 0x1d83e78afa0>"
      ]
     },
     "execution_count": 23,
     "metadata": {},
     "output_type": "execute_result"
    },
    {
     "data": {
      "image/png": "[encoded data removed]",
      "text/plain": [
       "<Figure size 432x288 with 1 Axes>"
      ]
     },
     "metadata": {
      "needs_background": "light"
     },
     "output_type": "display_data"
    }
   ],
   "source": [
    "plt.plot(training_losses, label='training_loss')\n",
    "plt.plot(val_losses, label='validation_loss')\n",
    "plt.xlabel('epoch')\n",
    "plt.ylabel('loss')\n",
    "plt.legend(frameon=False)"
   ]
  },
  {
   "cell_type": "markdown",
   "id": "9489a0b5",
   "metadata": {},
   "source": [
    "## Prediction"
   ]
  },
  {
   "cell_type": "code",
   "execution_count": 17,
   "id": "a95f1cd7",
   "metadata": {},
   "outputs": [],
   "source": [
    "def predict_image(img, model):\n",
    "    xb = img.unsqueeze(0).to(device)\n",
    "    yb = model(xb)\n",
    "    _, preds  = torch.max(yb, dim=1)\n",
    "    return preds[0].item()"
   ]
  },
  {
   "cell_type": "code",
   "execution_count": 18,
   "id": "57fece56",
   "metadata": {},
   "outputs": [
    {
     "name": "stdout",
     "output_type": "stream",
     "text": [
      "Label: 9 , Predicted: 9\n"
     ]
    },
    {
     "data": {
      "image/png": "[encoded data removed]",
      "text/plain": [
       "<Figure size 432x288 with 1 Axes>"
      ]
     },
     "metadata": {
      "needs_background": "light"
     },
     "output_type": "display_data"
    }
   ],
   "source": [
    "img, label = test_ds[0]\n",
    "plt.imshow(img[0], cmap='gray')\n",
    "print('Label:', label, ', Predicted:', predict_image(img, model_dp))"
   ]
  },
  {
   "cell_type": "code",
   "execution_count": 19,
   "id": "2fdc24a4",
   "metadata": {},
   "outputs": [
    {
     "name": "stdout",
     "output_type": "stream",
     "text": [
      "Label: 5 , Predicted: 5\n"
     ]
    },
    {
     "data": {
      "image/png": "[encoded data removed]",
      "text/plain": [
       "<Figure size 432x288 with 1 Axes>"
      ]
     },
     "metadata": {
      "needs_background": "light"
     },
     "output_type": "display_data"
    }
   ],
   "source": [
    "img, label = test_ds[111]\n",
    "plt.imshow(img[0], cmap='gray')\n",
    "print('Label:', label, ', Predicted:', predict_image(img, model_dp))"
   ]
  },
  {
   "cell_type": "code",
   "execution_count": null,
   "id": "d9c5f56a",
   "metadata": {},
   "outputs": [],
   "source": []
  }
 ],
 "metadata": {
  "kernelspec": {
   "display_name": "Python 3",
   "language": "python",
   "name": "python3"
  },
  "language_info": {
   "codemirror_mode": {
    "name": "ipython",
    "version": 3
   },
   "file_extension": ".py",
   "mimetype": "text/x-python",
   "name": "python",
   "nbconvert_exporter": "python",
   "pygments_lexer": "ipython3",
   "version": "3.8.8"
  }
 },
 "nbformat": 4,
 "nbformat_minor": 5
}
