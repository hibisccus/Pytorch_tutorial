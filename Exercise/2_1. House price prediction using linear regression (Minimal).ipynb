{
 "cells": [
  {
   "cell_type": "markdown",
   "id": "69239066",
   "metadata": {},
   "source": [
    "# House price prediction using linear regression (minimal)\n",
    "\n",
    "보스턴 주택 데이터 세트 사용: https://www.kaggle.com/c/boston-housing/\n",
    "\n",
    "* CRIM\t    자치시(town) 별 1인당 범죄율\n",
    "* ZN\t    25,000 평방피트를 초과하는 거주지역의 비율\n",
    "* INDUS\t    비소매상업지역이 점유하고 있는 토지의 비율\n",
    "* CHAS\t    찰스강에 대한 더미변수(강의 경계에 위치한 경우는 1, 아니면 0)\n",
    "* NOX\t    10ppm 당 농축 일산화질소\n",
    "* RM\t    주택 1가구당 평균 방의 개수\n",
    "* AGE\t    1940년 이전에 건축된 소유주택의 비율\n",
    "* DIS\t    5개의 보스턴 직업센터까지의 접근성 지수\n",
    "* RAD\t    방사형 도로까지의 접근성 지수\n",
    "* TAX\t    10,000 달러 당 재산세율\n",
    "* PTRATIO\t자치시(town)별 학생/교사 비율\n",
    "* B\t        1000(Bk-0.63)^2, 여기서 Bk는 자치시별 흑인의 비율을 말함.\n",
    "* LSTAT\t    모집단의 하위계층의 비율(%)\n",
    "* MEDV\t    본인 소유의 주택가격(중앙값) (단위: $1,000) -> Target"
   ]
  },
  {
   "cell_type": "code",
   "execution_count": 1,
   "id": "cfe84e7b",
   "metadata": {},
   "outputs": [],
   "source": [
    "import torch\n",
    "import torchvision\n",
    "import torch.nn as nn\n",
    "import pandas as pd\n",
    "import matplotlib.pyplot as plt\n",
    "import torch.nn.functional as F\n",
    "from torchvision.datasets.utils import download_url\n",
    "from torch.utils.data import DataLoader, TensorDataset, random_split"
   ]
  },
  {
   "cell_type": "code",
   "execution_count": 2,
   "id": "4584c55d",
   "metadata": {},
   "outputs": [],
   "source": [
    "# Hyperparameters\n",
    "batch_size=64\n",
    "learning_rate=5e-7\n",
    "\n",
    "# Other constants\n",
    "DATASET_URL = \"https://raw.githubusercontent.com/selva86/datasets/master/BostonHousing.csv\"\n",
    "DATA_FILENAME = \"BostonHousing.csv\"\n",
    "TARGET_COLUMN = 'medv'\n",
    "input_size=13\n",
    "output_size=1"
   ]
  },
  {
   "cell_type": "markdown",
   "id": "96d7c0b1",
   "metadata": {},
   "source": [
    "## Dataset & Data loaders"
   ]
  },
  {
   "cell_type": "code",
   "execution_count": 3,
   "id": "9909c363",
   "metadata": {},
   "outputs": [
    {
     "name": "stdout",
     "output_type": "stream",
     "text": [
      "Downloading https://raw.githubusercontent.com/selva86/datasets/master/BostonHousing.csv to .\\BostonHousing.csv\n"
     ]
    },
    {
     "data": {
      "application/vnd.jupyter.widget-view+json": {
       "model_id": "fac5b13437694fe4861af3f142408949",
       "version_major": 2,
       "version_minor": 0
      },
      "text/plain": [
       "0it [00:00, ?it/s]"
      ]
     },
     "metadata": {},
     "output_type": "display_data"
    },
    {
     "data": {
      "text/html": [
       "<div>\n",
       "<style scoped>\n",
       "    .dataframe tbody tr th:only-of-type {\n",
       "        vertical-align: middle;\n",
       "    }\n",
       "\n",
       "    .dataframe tbody tr th {\n",
       "        vertical-align: top;\n",
       "    }\n",
       "\n",
       "    .dataframe thead th {\n",
       "        text-align: right;\n",
       "    }\n",
       "</style>\n",
       "<table border=\"1\" class=\"dataframe\">\n",
       "  <thead>\n",
       "    <tr style=\"text-align: right;\">\n",
       "      <th></th>\n",
       "      <th>crim</th>\n",
       "      <th>zn</th>\n",
       "      <th>indus</th>\n",
       "      <th>chas</th>\n",
       "      <th>nox</th>\n",
       "      <th>rm</th>\n",
       "      <th>age</th>\n",
       "      <th>dis</th>\n",
       "      <th>rad</th>\n",
       "      <th>tax</th>\n",
       "      <th>ptratio</th>\n",
       "      <th>b</th>\n",
       "      <th>lstat</th>\n",
       "      <th>medv</th>\n",
       "    </tr>\n",
       "  </thead>\n",
       "  <tbody>\n",
       "    <tr>\n",
       "      <th>0</th>\n",
       "      <td>0.00632</td>\n",
       "      <td>18.0</td>\n",
       "      <td>2.31</td>\n",
       "      <td>0</td>\n",
       "      <td>0.538</td>\n",
       "      <td>6.575</td>\n",
       "      <td>65.2</td>\n",
       "      <td>4.0900</td>\n",
       "      <td>1</td>\n",
       "      <td>296</td>\n",
       "      <td>15.3</td>\n",
       "      <td>396.90</td>\n",
       "      <td>4.98</td>\n",
       "      <td>24.0</td>\n",
       "    </tr>\n",
       "    <tr>\n",
       "      <th>1</th>\n",
       "      <td>0.02731</td>\n",
       "      <td>0.0</td>\n",
       "      <td>7.07</td>\n",
       "      <td>0</td>\n",
       "      <td>0.469</td>\n",
       "      <td>6.421</td>\n",
       "      <td>78.9</td>\n",
       "      <td>4.9671</td>\n",
       "      <td>2</td>\n",
       "      <td>242</td>\n",
       "      <td>17.8</td>\n",
       "      <td>396.90</td>\n",
       "      <td>9.14</td>\n",
       "      <td>21.6</td>\n",
       "    </tr>\n",
       "    <tr>\n",
       "      <th>2</th>\n",
       "      <td>0.02729</td>\n",
       "      <td>0.0</td>\n",
       "      <td>7.07</td>\n",
       "      <td>0</td>\n",
       "      <td>0.469</td>\n",
       "      <td>7.185</td>\n",
       "      <td>61.1</td>\n",
       "      <td>4.9671</td>\n",
       "      <td>2</td>\n",
       "      <td>242</td>\n",
       "      <td>17.8</td>\n",
       "      <td>392.83</td>\n",
       "      <td>4.03</td>\n",
       "      <td>34.7</td>\n",
       "    </tr>\n",
       "    <tr>\n",
       "      <th>3</th>\n",
       "      <td>0.03237</td>\n",
       "      <td>0.0</td>\n",
       "      <td>2.18</td>\n",
       "      <td>0</td>\n",
       "      <td>0.458</td>\n",
       "      <td>6.998</td>\n",
       "      <td>45.8</td>\n",
       "      <td>6.0622</td>\n",
       "      <td>3</td>\n",
       "      <td>222</td>\n",
       "      <td>18.7</td>\n",
       "      <td>394.63</td>\n",
       "      <td>2.94</td>\n",
       "      <td>33.4</td>\n",
       "    </tr>\n",
       "    <tr>\n",
       "      <th>4</th>\n",
       "      <td>0.06905</td>\n",
       "      <td>0.0</td>\n",
       "      <td>2.18</td>\n",
       "      <td>0</td>\n",
       "      <td>0.458</td>\n",
       "      <td>7.147</td>\n",
       "      <td>54.2</td>\n",
       "      <td>6.0622</td>\n",
       "      <td>3</td>\n",
       "      <td>222</td>\n",
       "      <td>18.7</td>\n",
       "      <td>396.90</td>\n",
       "      <td>5.33</td>\n",
       "      <td>36.2</td>\n",
       "    </tr>\n",
       "  </tbody>\n",
       "</table>\n",
       "</div>"
      ],
      "text/plain": [
       "      crim    zn  indus  chas    nox     rm   age     dis  rad  tax  ptratio  \\\n",
       "0  0.00632  18.0   2.31     0  0.538  6.575  65.2  4.0900    1  296     15.3   \n",
       "1  0.02731   0.0   7.07     0  0.469  6.421  78.9  4.9671    2  242     17.8   \n",
       "2  0.02729   0.0   7.07     0  0.469  7.185  61.1  4.9671    2  242     17.8   \n",
       "3  0.03237   0.0   2.18     0  0.458  6.998  45.8  6.0622    3  222     18.7   \n",
       "4  0.06905   0.0   2.18     0  0.458  7.147  54.2  6.0622    3  222     18.7   \n",
       "\n",
       "        b  lstat  medv  \n",
       "0  396.90   4.98  24.0  \n",
       "1  396.90   9.14  21.6  \n",
       "2  392.83   4.03  34.7  \n",
       "3  394.63   2.94  33.4  \n",
       "4  396.90   5.33  36.2  "
      ]
     },
     "execution_count": 3,
     "metadata": {},
     "output_type": "execute_result"
    }
   ],
   "source": [
    "download_url(DATASET_URL, '.')\n",
    "dataframe = pd.read_csv(DATA_FILENAME)\n",
    "dataframe.head()"
   ]
  },
  {
   "cell_type": "code",
   "execution_count": 4,
   "id": "7eed0075",
   "metadata": {},
   "outputs": [
    {
     "data": {
      "text/plain": [
       "((506, 13), (506, 1))"
      ]
     },
     "execution_count": 4,
     "metadata": {},
     "output_type": "execute_result"
    }
   ],
   "source": [
    "# Convert from Pandas dataframe to numpy arrays\n",
    "inputs = dataframe.drop('medv', axis=1).values\n",
    "targets = dataframe[['medv']].values\n",
    "inputs.shape, targets.shape"
   ]
  },
  {
   "cell_type": "code",
   "execution_count": 5,
   "id": "4a824c0d",
   "metadata": {},
   "outputs": [],
   "source": [
    "dataset = TensorDataset(torch.tensor(inputs, dtype=torch.float32), torch.tensor(targets, dtype=torch.float32))\n",
    "train_ds, val_ds = random_split(dataset, [406, 100])\n",
    "\n",
    "train_loader = DataLoader(train_ds, batch_size, shuffle=True)\n",
    "val_loader = DataLoader(val_ds, batch_size)"
   ]
  },
  {
   "cell_type": "markdown",
   "id": "d4312740",
   "metadata": {},
   "source": [
    "## Model"
   ]
  },
  {
   "cell_type": "code",
   "execution_count": 6,
   "id": "36ca31b5",
   "metadata": {},
   "outputs": [],
   "source": [
    "class HousingModel(nn.Module):\n",
    "    def __init__(self):\n",
    "        super().__init__()\n",
    "        self.linear = nn.Linear(input_size, output_size)\n",
    "        \n",
    "    def forward(self, xb):\n",
    "        out = self.linear(xb)\n",
    "        return out\n",
    "    \n",
    "    def training_step(self, batch):\n",
    "        inputs, targets = batch\n",
    "        out = self(inputs)\n",
    "        loss = F.mse_loss(out, targets)\n",
    "        return loss\n",
    "    \n",
    "    def validation_step(self, batch):\n",
    "        inputs, targets = batch\n",
    "        out = self(inputs)\n",
    "        loss = F.mse_loss(out, targets)\n",
    "        return {'val_loss': loss.detach()}\n",
    "    \n",
    "    def validation_epoch_end(self, outputs):\n",
    "        batch_losses = [x['val_loss'] for x in outputs]\n",
    "        epoch_loss = torch.stack(batch_losses).mean()\n",
    "        return {'val_loss': epoch_loss.item()}\n",
    "    \n",
    "    def epoch_end(self, epoch, result):\n",
    "        print(\"Epoch [{}], val_loss: {:.4f}\".format(epoch, result['val_loss']))"
   ]
  },
  {
   "cell_type": "code",
   "execution_count": 7,
   "id": "9d6db0d8",
   "metadata": {},
   "outputs": [],
   "source": [
    "model = HousingModel()"
   ]
  },
  {
   "cell_type": "markdown",
   "id": "a9e4bcbf",
   "metadata": {},
   "source": [
    "## Training"
   ]
  },
  {
   "cell_type": "code",
   "execution_count": 8,
   "id": "2b81423e",
   "metadata": {},
   "outputs": [],
   "source": [
    "def fit(epochs, lr, model, train_loader, val_loader, opt_func=torch.optim.SGD):\n",
    "    history = []\n",
    "    optimizer = opt_func(model.parameters(), lr)\n",
    "    for epoch in range(epochs):\n",
    "        # Training Phase \n",
    "        for batch in train_loader:\n",
    "            loss = model.training_step(batch)\n",
    "            loss.backward()\n",
    "            optimizer.step()\n",
    "            optimizer.zero_grad()\n",
    "        # Validation phase\n",
    "        result = evaluate(model, val_loader)\n",
    "        model.epoch_end(epoch, result)\n",
    "        history.append(result)\n",
    "    return history\n",
    "\n",
    "def evaluate(model, val_loader):\n",
    "    outputs = [model.validation_step(batch) for batch in val_loader]\n",
    "    return model.validation_epoch_end(outputs)"
   ]
  },
  {
   "cell_type": "code",
   "execution_count": 9,
   "id": "f955b062",
   "metadata": {},
   "outputs": [
    {
     "data": {
      "text/plain": [
       "{'val_loss': 15237.353515625}"
      ]
     },
     "execution_count": 9,
     "metadata": {},
     "output_type": "execute_result"
    }
   ],
   "source": [
    "result = evaluate(model, val_loader)\n",
    "result"
   ]
  },
  {
   "cell_type": "code",
   "execution_count": 10,
   "id": "1bb695a0",
   "metadata": {},
   "outputs": [
    {
     "name": "stdout",
     "output_type": "stream",
     "text": [
      "Epoch [0], val_loss: 537.9697\n",
      "Epoch [1], val_loss: 410.7170\n",
      "Epoch [2], val_loss: 334.0815\n",
      "Epoch [3], val_loss: 255.6349\n",
      "Epoch [4], val_loss: 215.6040\n",
      "Epoch [5], val_loss: 179.8975\n",
      "Epoch [6], val_loss: 155.2205\n",
      "Epoch [7], val_loss: 140.1239\n",
      "Epoch [8], val_loss: 127.1720\n",
      "Epoch [9], val_loss: 117.8206\n"
     ]
    }
   ],
   "source": [
    "history = fit(10, learning_rate, model, train_loader, val_loader)"
   ]
  },
  {
   "cell_type": "code",
   "execution_count": 11,
   "id": "b004e5f7",
   "metadata": {},
   "outputs": [
    {
     "data": {
      "image/png": "[encoded data removed]",
      "text/plain": [
       "<Figure size 432x288 with 1 Axes>"
      ]
     },
     "metadata": {
      "needs_background": "light"
     },
     "output_type": "display_data"
    }
   ],
   "source": [
    "losses = [r['val_loss'] for r in [result] + history]\n",
    "plt.plot(losses, '-x')\n",
    "plt.xlabel('epoch')\n",
    "plt.ylabel('val_loss')\n",
    "plt.title('val_loss vs. epochs');"
   ]
  },
  {
   "cell_type": "markdown",
   "id": "6dde7a44",
   "metadata": {},
   "source": [
    "## Prediction"
   ]
  },
  {
   "cell_type": "code",
   "execution_count": 12,
   "id": "6825ed68",
   "metadata": {},
   "outputs": [],
   "source": [
    "def predict_single(x, model):\n",
    "    xb = x.unsqueeze(0)\n",
    "    return model(xb).item()"
   ]
  },
  {
   "cell_type": "code",
   "execution_count": 13,
   "id": "6002230c",
   "metadata": {},
   "outputs": [
    {
     "name": "stdout",
     "output_type": "stream",
     "text": [
      "Input:  tensor([ 15.1772,   0.0000,  18.1000,   0.0000,   0.7400,   6.1520, 100.0000,\n",
      "          1.9142,  24.0000, 666.0000,  20.2000,   9.3200,  26.4500])\n",
      "Target:  8.699999809265137\n",
      "Prediction: 20.765649795532227\n"
     ]
    }
   ],
   "source": [
    "x, target = val_ds[10]\n",
    "pred = predict_single(x, model)\n",
    "print(\"Input: \", x)\n",
    "print(\"Target: \", target.item())\n",
    "print(\"Prediction:\", pred)"
   ]
  },
  {
   "cell_type": "markdown",
   "id": "51799330",
   "metadata": {},
   "source": [
    "## Save and upload"
   ]
  },
  {
   "cell_type": "code",
   "execution_count": null,
   "id": "52a6ddec",
   "metadata": {},
   "outputs": [],
   "source": [
    "torch.save(model.state_dict(), 'housing-linear.pth')"
   ]
  },
  {
   "cell_type": "code",
   "execution_count": null,
   "id": "a9eddfc1",
   "metadata": {},
   "outputs": [],
   "source": []
  }
 ],
 "metadata": {
  "kernelspec": {
   "display_name": "Python 3",
   "language": "python",
   "name": "python3"
  },
  "language_info": {
   "codemirror_mode": {
    "name": "ipython",
    "version": 3
   },
   "file_extension": ".py",
   "mimetype": "text/x-python",
   "name": "python",
   "nbconvert_exporter": "python",
   "pygments_lexer": "ipython3",
   "version": "3.8.8"
  }
 },
 "nbformat": 4,
 "nbformat_minor": 5
}
